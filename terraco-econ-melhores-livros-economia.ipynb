{
 "cells": [
  {
   "cell_type": "code",
   "execution_count": null,
   "metadata": {},
   "outputs": [],
   "source": [
    "from googlesearch import search\n",
    "import pandas as pd\n",
    "\n",
    "query = 'best economics books'\n",
    "\n",
    "results_list = []\n",
    "\n",
    "for i in search(\n",
    "    query,\n",
    "    tld='com',\n",
    "    lang='en',\n",
    "    num=10,\n",
    "    start=0,\n",
    "    stop=300,\n",
    "    pause=2.0\n",
    "):\n",
    "    results_list.append(i)\n",
    "    \n",
    "results_df = pd.DataFrame(results_list, columns = ['url'])\n",
    "results_df.to_csv('best-economics-books.csv', index=True)"
   ]
  },
  {
   "cell_type": "code",
   "execution_count": null,
   "metadata": {},
   "outputs": [],
   "source": [
    "from googlesearch import search\n",
    "import pandas as pd\n",
    "\n",
    "query = 'best economics textbooks'\n",
    "\n",
    "results_list = []\n",
    "\n",
    "for i in search(\n",
    "    query,\n",
    "    tld='com',\n",
    "    lang='en',\n",
    "    num=10,\n",
    "    start=0,\n",
    "    stop=300,\n",
    "    pause=2.0\n",
    "):\n",
    "    results_list.append(i)\n",
    "    \n",
    "results_df = pd.DataFrame(results_list, columns = ['url'])\n",
    "results_df.to_csv('best-economics-textbooks.csv', index=True)"
   ]
  },
  {
   "cell_type": "code",
   "execution_count": null,
   "metadata": {},
   "outputs": [],
   "source": [
    "from googlesearch import search\n",
    "import pandas as pd\n",
    "\n",
    "query = 'books to learn economy'\n",
    "\n",
    "results_list = []\n",
    "\n",
    "for i in search(\n",
    "    query,\n",
    "    tld='com',\n",
    "    lang='en',\n",
    "    num=10,\n",
    "    start=0,\n",
    "    stop=300,\n",
    "    pause=2.0\n",
    "):\n",
    "    results_list.append(i)\n",
    "    \n",
    "results_df = pd.DataFrame(results_list, columns = ['url'])\n",
    "results_df.to_csv('books-to-learn-economy.csv', index=True)"
   ]
  },
  {
   "cell_type": "code",
   "execution_count": null,
   "metadata": {},
   "outputs": [],
   "source": [
    "from googlesearch import search\n",
    "import pandas as pd\n",
    "\n",
    "query = 'best economics books for beginners'\n",
    "\n",
    "results_list = []\n",
    "\n",
    "for i in search(\n",
    "    query,\n",
    "    tld='com',\n",
    "    lang='en',\n",
    "    num=10,\n",
    "    start=0,\n",
    "    stop=300,\n",
    "    pause=2.0\n",
    "):\n",
    "    results_list.append(i)\n",
    "    \n",
    "results_df = pd.DataFrame(results_list, columns = ['url'])\n",
    "results_df.to_csv('best-economics-books-beginners.csv', index=True)"
   ]
  },
  {
   "cell_type": "code",
   "execution_count": 6,
   "metadata": {},
   "outputs": [],
   "source": [
    "import pandas as pd\n",
    "\n",
    "results_list1 = pd.read_csv('best-economics-books-clean.csv', index_col=0, sep=',')\n",
    "results_list2 = pd.read_csv('best-economics-textbooks-clean.csv', index_col=0, sep=',')\n",
    "results_list3 = pd.read_csv('books-to-learn-economy-clean.csv', index_col=0, sep=',')\n",
    "results_list4 = pd.read_csv('best-economics-books-for-beginners-clean.csv', index_col=0, sep=',')\n",
    "\n",
    "results_list_def = pd.concat([results_list1, results_list2, results_list3, results_list4])\n",
    "results_list_def = pd.DataFrame(results_list_def, columns = ['url'])\n",
    "results_list_def = results_list_def.sort_values(['url'], ascending=True)\n",
    "results_list_def = results_list_def.drop_duplicates()\n",
    "results_list_def = results_list_def['url'].reset_index(drop=True)\n",
    "results_list_def.to_csv('best-econ-books-def.csv', index=True, header=True)"
   ]
  },
  {
   "cell_type": "code",
   "execution_count": null,
   "metadata": {},
   "outputs": [],
   "source": [
    "#step0: predefined criteria:\n",
    "#no yearly lists\n",
    "#no specific subject lists (i.e.: best behavioral economics books)\n",
    "#no link aggregators, amazon pages, social media posts, wikipedia pages, book review websites, .pdf files or discussion forums\n",
    "\n",
    "#step1: having unified each .csv file into a single file, delete rows according to predefined criteria;\n",
    "#step2: fill html tag column so we can capture book titles inside each page; "
   ]
  },
  {
   "cell_type": "code",
   "execution_count": 5,
   "metadata": {},
   "outputs": [
    {
     "name": "stderr",
     "output_type": "stream",
     "text": [
      "Some characters could not be decoded, and were replaced with REPLACEMENT CHARACTER.\n"
     ]
    }
   ],
   "source": [
    "import pandas as pd\n",
    "import requests\n",
    "from bs4 import BeautifulSoup\n",
    "\n",
    "economics_books = pd.read_csv('best-econ-books-def-clean.csv', index_col=0, sep=',')\n",
    "\n",
    "def normalize(item):\n",
    "    item = item.lower()\n",
    "    item = item.replace(\"'\", '')\n",
    "    item = item.replace(\"“\", '')\n",
    "    item = item.replace(\"”\", '')\n",
    "    item = item.replace('-', '')\n",
    "    item = item.replace(',', ' ')\n",
    "    item = item.replace('.', ' ')\n",
    "    item = item.replace(':', ' ')\n",
    "    item = item.replace('-', ' ')\n",
    "    item = item.replace('&', '')\n",
    "    item = item.replace('?', '')\n",
    "    item = item.strip()\n",
    "    item = item.replace(' ', '_')\n",
    "    item = item.replace('\\n_', '_')\n",
    "    item = item.replace('__', '_')\n",
    "    \n",
    "    return item\n",
    "\n",
    "my_economics_books = 'url, tag, book\\n'\n",
    "\n",
    "for index, row in economics_books.iterrows():\n",
    "    url = economics_books.iloc[index, 0]\n",
    "    book_tag = economics_books.iloc[index, 1]\n",
    "    \n",
    "    page = requests.get(url)\n",
    "    \n",
    "    soup = BeautifulSoup(page.content, 'html.parser')\n",
    "    \n",
    "    for tag in soup.find_all(book_tag):\n",
    "        my_economics_books += url + ', '\n",
    "        my_economics_books += book_tag + ', '\n",
    "        \n",
    "        book = tag.text\n",
    "        book = normalize(book)\n",
    "        my_economics_books += book + '\\n'\n",
    "        \n",
    "with open('best_economics_books_list.csv', \"w+\", encoding=\"utf-8\") as f:\n",
    "    f.write(my_economics_books)"
   ]
  },
  {
   "cell_type": "code",
   "execution_count": null,
   "metadata": {},
   "outputs": [],
   "source": []
  }
 ],
 "metadata": {
  "kernelspec": {
   "display_name": "Python 3",
   "language": "python",
   "name": "python3"
  },
  "language_info": {
   "codemirror_mode": {
    "name": "ipython",
    "version": 3
   },
   "file_extension": ".py",
   "mimetype": "text/x-python",
   "name": "python",
   "nbconvert_exporter": "python",
   "pygments_lexer": "ipython3",
   "version": "3.7.4"
  }
 },
 "nbformat": 4,
 "nbformat_minor": 2
}
